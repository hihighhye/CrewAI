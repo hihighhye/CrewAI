{
 "cells": [
  {
   "cell_type": "code",
   "execution_count": 4,
   "id": "cf5e118e",
   "metadata": {},
   "outputs": [
    {
     "data": {
      "text/html": [
       "<div>\n",
       "<style scoped>\n",
       "    .dataframe tbody tr th:only-of-type {\n",
       "        vertical-align: middle;\n",
       "    }\n",
       "\n",
       "    .dataframe tbody tr th {\n",
       "        vertical-align: top;\n",
       "    }\n",
       "\n",
       "    .dataframe thead th {\n",
       "        text-align: right;\n",
       "    }\n",
       "</style>\n",
       "<table border=\"1\" class=\"dataframe\">\n",
       "  <thead>\n",
       "    <tr style=\"text-align: right;\">\n",
       "      <th></th>\n",
       "      <th>Words</th>\n",
       "      <th>Meaning</th>\n",
       "      <th>Note</th>\n",
       "      <th>Examples</th>\n",
       "    </tr>\n",
       "  </thead>\n",
       "  <tbody>\n",
       "    <tr>\n",
       "      <th>0</th>\n",
       "      <td>ulcer</td>\n",
       "      <td>a break in the skin, or on the surface of an o...</td>\n",
       "      <td>NaN</td>\n",
       "      <td>NaN</td>\n",
       "    </tr>\n",
       "    <tr>\n",
       "      <th>1</th>\n",
       "      <td>recipient</td>\n",
       "      <td>a person who receives something.</td>\n",
       "      <td>NaN</td>\n",
       "      <td>NaN</td>\n",
       "    </tr>\n",
       "    <tr>\n",
       "      <th>2</th>\n",
       "      <td>gland</td>\n",
       "      <td>an organ of the body or of a plant that secret...</td>\n",
       "      <td>NaN</td>\n",
       "      <td>NaN</td>\n",
       "    </tr>\n",
       "    <tr>\n",
       "      <th>3</th>\n",
       "      <td>altruism</td>\n",
       "      <td>willingness to do things that bring advantages...</td>\n",
       "      <td>NaN</td>\n",
       "      <td>NaN</td>\n",
       "    </tr>\n",
       "    <tr>\n",
       "      <th>4</th>\n",
       "      <td>sprawling</td>\n",
       "      <td>(of a city) covered with buildings across a la...</td>\n",
       "      <td>NaN</td>\n",
       "      <td>NaN</td>\n",
       "    </tr>\n",
       "    <tr>\n",
       "      <th>...</th>\n",
       "      <td>...</td>\n",
       "      <td>...</td>\n",
       "      <td>...</td>\n",
       "      <td>...</td>\n",
       "    </tr>\n",
       "    <tr>\n",
       "      <th>298</th>\n",
       "      <td>supraoptic</td>\n",
       "      <td>situated above the optic(= relating to the eye...</td>\n",
       "      <td>NaN</td>\n",
       "      <td>NaN</td>\n",
       "    </tr>\n",
       "    <tr>\n",
       "      <th>299</th>\n",
       "      <td>take up</td>\n",
       "      <td>1) to begin sth again, to continue\\n2) to fill...</td>\n",
       "      <td>NaN</td>\n",
       "      <td>NaN</td>\n",
       "    </tr>\n",
       "    <tr>\n",
       "      <th>300</th>\n",
       "      <td>emergent</td>\n",
       "      <td>= emerging</td>\n",
       "      <td>cf. emanate</td>\n",
       "      <td>NaN</td>\n",
       "    </tr>\n",
       "    <tr>\n",
       "      <th>301</th>\n",
       "      <td>aficionado</td>\n",
       "      <td>a person who likes and knows a lot about somet...</td>\n",
       "      <td>a. erudite</td>\n",
       "      <td>NaN</td>\n",
       "    </tr>\n",
       "    <tr>\n",
       "      <th>302</th>\n",
       "      <td>mediate</td>\n",
       "      <td>to work with opposing sides in an argument or ...</td>\n",
       "      <td>NaN</td>\n",
       "      <td>NaN</td>\n",
       "    </tr>\n",
       "  </tbody>\n",
       "</table>\n",
       "<p>303 rows × 4 columns</p>\n",
       "</div>"
      ],
      "text/plain": [
       "          Words                                            Meaning  \\\n",
       "0         ulcer  a break in the skin, or on the surface of an o...   \n",
       "1     recipient                   a person who receives something.   \n",
       "2         gland  an organ of the body or of a plant that secret...   \n",
       "3      altruism  willingness to do things that bring advantages...   \n",
       "4     sprawling  (of a city) covered with buildings across a la...   \n",
       "..          ...                                                ...   \n",
       "298  supraoptic  situated above the optic(= relating to the eye...   \n",
       "299     take up  1) to begin sth again, to continue\\n2) to fill...   \n",
       "300    emergent                                         = emerging   \n",
       "301  aficionado  a person who likes and knows a lot about somet...   \n",
       "302     mediate  to work with opposing sides in an argument or ...   \n",
       "\n",
       "            Note Examples  \n",
       "0            NaN      NaN  \n",
       "1            NaN      NaN  \n",
       "2            NaN      NaN  \n",
       "3            NaN      NaN  \n",
       "4            NaN      NaN  \n",
       "..           ...      ...  \n",
       "298          NaN      NaN  \n",
       "299          NaN      NaN  \n",
       "300  cf. emanate      NaN  \n",
       "301   a. erudite      NaN  \n",
       "302          NaN      NaN  \n",
       "\n",
       "[303 rows x 4 columns]"
      ]
     },
     "execution_count": 4,
     "metadata": {},
     "output_type": "execute_result"
    }
   ],
   "source": [
    "import pandas as pd\n",
    "\n",
    "check_df = pd.read_excel(\n",
    "    './target/Words&Expressions.xlsx', \n",
    "    sheet_name='Behave', \n",
    "    usecols=['Words', 'Meaning', 'Note', 'Examples'],\n",
    "    header=3,\n",
    ")\n",
    "\n",
    "check_df"
   ]
  },
  {
   "cell_type": "code",
   "execution_count": 1,
   "id": "23a7987f",
   "metadata": {},
   "outputs": [
    {
     "name": "stdout",
     "output_type": "stream",
     "text": [
      "/home/hye/crewai/new_crewai/bin/python\n"
     ]
    }
   ],
   "source": [
    "import sys\n",
    "print(sys.executable)"
   ]
  },
  {
   "cell_type": "code",
   "execution_count": 2,
   "id": "7aaee0d7",
   "metadata": {},
   "outputs": [
    {
     "name": "stdout",
     "output_type": "stream",
     "text": [
      "Name: google-api-python-client\n",
      "Version: 2.179.0\n",
      "Summary: Google API Client Library for Python\n",
      "Home-page: https://github.com/googleapis/google-api-python-client/\n",
      "Author: Google LLC\n",
      "Author-email: googleapis-packages@google.com\n",
      "License: Apache 2.0\n",
      "Location: /home/hye/crewai/new_crewai/lib/python3.11/site-packages\n",
      "Requires: google-api-core, google-auth, google-auth-httplib2, httplib2, uritemplate\n",
      "Required-by: \n"
     ]
    }
   ],
   "source": [
    "!pip show google-api-python-client"
   ]
  },
  {
   "cell_type": "code",
   "execution_count": 3,
   "id": "aa1ad517",
   "metadata": {},
   "outputs": [
    {
     "name": "stdout",
     "output_type": "stream",
     "text": [
      "Name: crewai\n",
      "Version: 0.30.11\n",
      "Summary: Cutting-edge framework for orchestrating role-playing, autonomous AI agents. By fostering collaborative intelligence, CrewAI empowers agents to work together seamlessly, tackling complex tasks.\n",
      "Home-page: \n",
      "Author: Joao Moura\n",
      "Author-email: joao@crewai.com\n",
      "License: \n",
      "Location: /home/hye/crewai/new_crewai/lib/python3.11/site-packages\n",
      "Requires: appdirs, click, embedchain, instructor, langchain, openai, opentelemetry-api, opentelemetry-exporter-otlp-proto-http, opentelemetry-sdk, pydantic, python-dotenv, regex\n",
      "Required-by: \n"
     ]
    }
   ],
   "source": [
    "!pip show crewai"
   ]
  },
  {
   "cell_type": "code",
   "execution_count": null,
   "id": "1c2654f8",
   "metadata": {},
   "outputs": [],
   "source": []
  }
 ],
 "metadata": {
  "kernelspec": {
   "display_name": "new_crewai",
   "language": "python",
   "name": "python3"
  },
  "language_info": {
   "codemirror_mode": {
    "name": "ipython",
    "version": 3
   },
   "file_extension": ".py",
   "mimetype": "text/x-python",
   "name": "python",
   "nbconvert_exporter": "python",
   "pygments_lexer": "ipython3",
   "version": "3.11.13"
  }
 },
 "nbformat": 4,
 "nbformat_minor": 5
}
