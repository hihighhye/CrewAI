{
 "cells": [
  {
   "cell_type": "code",
   "execution_count": 1,
   "id": "122747d0",
   "metadata": {},
   "outputs": [],
   "source": [
    "import openai\n",
    "import os\n",
    "from dotenv import load_dotenv\n",
    "\n",
    "load_dotenv()\n",
    "\n",
    "os.environ['OPENAI_MODEL_NAME'] = 'gpt-4o-mini'"
   ]
  },
  {
   "cell_type": "code",
   "execution_count": 2,
   "id": "c43a93e9",
   "metadata": {},
   "outputs": [],
   "source": [
    "from pydantic import BaseModel\n",
    "from typing import List\n",
    "\n",
    "\n",
    "class Words(BaseModel):\n",
    "    word: str\n",
    "    meaning_eng: str\n",
    "    meaning_kr: str\n",
    "\n",
    "class WordList(BaseModel):\n",
    "    words: List[Words]"
   ]
  },
  {
   "cell_type": "code",
   "execution_count": 3,
   "id": "284ce897",
   "metadata": {},
   "outputs": [],
   "source": [
    "from crewai import Crew, Agent, Task\n",
    "\n",
    "\n",
    "word_finder = Agent(\n",
    "    role=\"Searching the meaning of words\",\n",
    "    goal=\"Find the meaning of given words in English and Korean.\",\n",
    "    backstory=\"\"\"\n",
    "        You are finding the meaning of English words in dictionaries for who studying English.\n",
    "        Find the meaning of given words in English and Korean.\n",
    "        You don't need to give information about how to pronounce the words in Korean.\n",
    "        The words will be given as a comma-separated list.\n",
    "    \"\"\",\n",
    "    verbose=True,\n",
    "    allow_delegation=False,\n",
    ")"
   ]
  },
  {
   "cell_type": "code",
   "execution_count": 4,
   "id": "d352030f",
   "metadata": {},
   "outputs": [],
   "source": [
    "searching_task = Task(\n",
    "    description=\"Find the meaning of given words in English and Korean by searching dictionaries: {word_list}\",\n",
    "    agent=word_finder,\n",
    "    expected_output=\"A List of Words Object\",\n",
    "    output_json=WordList\n",
    ")"
   ]
  },
  {
   "cell_type": "code",
   "execution_count": 5,
   "id": "a5a923c2",
   "metadata": {},
   "outputs": [],
   "source": [
    "crew = Crew(\n",
    "    tasks=[\n",
    "        searching_task,\n",
    "    ],\n",
    "    agents=[\n",
    "        word_finder,\n",
    "    ],\n",
    "    verbose=2,\n",
    ")"
   ]
  },
  {
   "cell_type": "code",
   "execution_count": 6,
   "id": "a4d2be11",
   "metadata": {},
   "outputs": [
    {
     "name": "stdout",
     "output_type": "stream",
     "text": [
      "\u001b[1m\u001b[95m [DEBUG]: == Working Agent: Searching the meaning of words\u001b[00m\n",
      "\u001b[1m\u001b[95m [INFO]: == Starting Task: Find the meaning of given words in English and Korean by searching dictionaries: amygdala\u001b[00m\n",
      "\n",
      "\n",
      "\u001b[1m> Entering new CrewAgentExecutor chain...\u001b[0m\n",
      "\u001b[32;1m\u001b[1;3mThought: I now can give a great answer  \n",
      "Final Answer:  \n",
      "- **Amygdala**  \n",
      "  - **English Meaning**: The amygdala is a small, almond-shaped cluster of nuclei located deep within the temporal lobes of the brain. It is primarily involved in processing emotions, particularly fear and pleasure, and plays a key role in the formation of emotional memories.  \n",
      "  - **Korean Meaning**: 편도체 (pyeondoche) - 뇌의 측두엽 깊은 곳에 위치한 작은 아몬드 모양의 핵 덩어리로, 감정 처리, 특히 두려움과 쾌감에 관여하며, 감정적 기억 형성에 중요한 역할을 한다.\u001b[0m\n",
      "\n",
      "\u001b[1m> Finished chain.\u001b[0m\n",
      "\u001b[1m\u001b[92m [DEBUG]: == [Searching the meaning of words] Task output: {\n",
      "  \"words\": [\n",
      "    {\n",
      "      \"word\": \"Amygdala\",\n",
      "      \"meaning_eng\": \"The amygdala is a small, almond-shaped cluster of nuclei located deep within the temporal lobes of the brain. It is primarily involved in processing emotions, particularly fear and pleasure, and plays a key role in the formation of emotional memories.\",\n",
      "      \"meaning_kr\": \"편도체 (pyeondoche) - 뇌의 측두엽 깊은 곳에 위치한 작은 아몬드 모양의 핵 덩어리로, 감정 처리, 특히 두려움과 쾌감에 관여하며, 감정적 기억 형성에 중요한 역할을 한다.\"\n",
      "    }\n",
      "  ]\n",
      "}\n",
      "\n",
      "\u001b[00m\n"
     ]
    }
   ],
   "source": [
    "result = crew.kickoff(\n",
    "    inputs=dict(\n",
    "        word_list=\"amygdala\"\n",
    "    )\n",
    ")"
   ]
  }
 ],
 "metadata": {
  "kernelspec": {
   "display_name": "crewai",
   "language": "python",
   "name": "python3"
  },
  "language_info": {
   "codemirror_mode": {
    "name": "ipython",
    "version": 3
   },
   "file_extension": ".py",
   "mimetype": "text/x-python",
   "name": "python",
   "nbconvert_exporter": "python",
   "pygments_lexer": "ipython3",
   "version": "3.11.13"
  }
 },
 "nbformat": 4,
 "nbformat_minor": 5
}
