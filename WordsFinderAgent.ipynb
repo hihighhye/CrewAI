{
 "cells": [
  {
   "cell_type": "code",
   "execution_count": 1,
   "id": "122747d0",
   "metadata": {},
   "outputs": [],
   "source": [
    "import openai\n",
    "import os\n",
    "from dotenv import load_dotenv\n",
    "\n",
    "load_dotenv()\n",
    "\n",
    "os.environ['OPENAI_MODEL_NAME'] = 'gpt-4o-mini'"
   ]
  },
  {
   "cell_type": "code",
   "execution_count": 2,
   "id": "c43a93e9",
   "metadata": {},
   "outputs": [],
   "source": [
    "from pydantic import BaseModel\n",
    "from typing import List\n",
    "\n",
    "\n",
    "class Words(BaseModel):\n",
    "    word: str\n",
    "    meaning_eng: str\n",
    "    meaning_native: str\n",
    "\n",
    "class WordList(BaseModel):\n",
    "    words: List[Words]"
   ]
  },
  {
   "cell_type": "code",
   "execution_count": null,
   "id": "284ce897",
   "metadata": {},
   "outputs": [],
   "source": [
    "from crewai import Crew, Agent, Task\n",
    "\n",
    "\n",
    "word_finder = Agent(\n",
    "    role=\"Searching the meaning of words\",\n",
    "    goal=\"Find the meaning of given words in English and given native language.\",\n",
    "    backstory=\"\"\"\n",
    "        You are finding the meaning of English words in dictionaries for who studying English.\n",
    "        Find the meaning of given words in English first.\n",
    "        Explain the words briefly in the tone of dictionaries.\n",
    "        Secondly, find what it means in native language(in other words, how the words can translate in native language).\n",
    "        You don't need to explain the native word wordily.\n",
    "        DO NOT use English when you translate the words in native language.\n",
    "        The words will be given as a comma-separated list.\n",
    "    \"\"\",\n",
    "    verbose=True,\n",
    "    allow_delegation=False,\n",
    ")"
   ]
  },
  {
   "cell_type": "code",
   "execution_count": 10,
   "id": "d352030f",
   "metadata": {},
   "outputs": [],
   "source": [
    "searching_task = Task(\n",
    "    description=\"Find the meaning of given words in English and {native_lang} by searching dictionaries: {word_list}\",\n",
    "    agent=word_finder,\n",
    "    expected_output=\"A List of Words Object\",\n",
    "    output_json=WordList,\n",
    ")"
   ]
  },
  {
   "cell_type": "code",
   "execution_count": 11,
   "id": "a5a923c2",
   "metadata": {},
   "outputs": [
    {
     "name": "stderr",
     "output_type": "stream",
     "text": [
      "2025-08-29 13:10:29,469 - 140454591799424 - __init__.py-__init__:537 - WARNING: Overriding of current TracerProvider is not allowed\n"
     ]
    }
   ],
   "source": [
    "crew = Crew(\n",
    "    tasks=[\n",
    "        searching_task,\n",
    "    ],\n",
    "    agents=[\n",
    "        word_finder,\n",
    "    ],\n",
    "    verbose=2,\n",
    ")"
   ]
  },
  {
   "cell_type": "code",
   "execution_count": 12,
   "id": "a4d2be11",
   "metadata": {},
   "outputs": [
    {
     "name": "stdout",
     "output_type": "stream",
     "text": [
      "\u001b[1m\u001b[95m [DEBUG]: == Working Agent: Searching the meaning of words\u001b[00m\n",
      "\u001b[1m\u001b[95m [INFO]: == Starting Task: Find the meaning of given words in English and Korean by searching dictionaries: amygdala\u001b[00m\n",
      "\n",
      "\n",
      "\u001b[1m> Entering new CrewAgentExecutor chain...\u001b[0m\n",
      "\u001b[32;1m\u001b[1;3mThought: I now can give a great answer  \n",
      "Final Answer: \n",
      "\n",
      "**Word**: Amygdala  \n",
      "**Meaning in English**: The amygdala is a small, almond-shaped cluster of nuclei located deep within the temporal lobes of the brain. It plays a crucial role in processing emotions, particularly fear and pleasure. The amygdala is involved in the formation of emotional memories and is key to the fight-or-flight response.\n",
      "\n",
      "**Meaning in Korean**: 편도체\u001b[0m\n",
      "\n",
      "\u001b[1m> Finished chain.\u001b[0m\n",
      "\u001b[1m\u001b[92m [DEBUG]: == [Searching the meaning of words] Task output: {\n",
      "  \"words\": [\n",
      "    {\n",
      "      \"word\": \"Amygdala\",\n",
      "      \"meaning_eng\": \"The amygdala is a small, almond-shaped cluster of nuclei located deep within the temporal lobes of the brain. It plays a crucial role in processing emotions, particularly fear and pleasure. The amygdala is involved in the formation of emotional memories and is key to the fight-or-flight response.\",\n",
      "      \"meaning_native\": \"편도체\"\n",
      "    }\n",
      "  ]\n",
      "}\n",
      "\n",
      "\u001b[00m\n"
     ]
    }
   ],
   "source": [
    "result = crew.kickoff(\n",
    "    inputs=dict(\n",
    "        native_lang=\"Korean\",\n",
    "        word_list=\"amygdala\",\n",
    "    )\n",
    ")"
   ]
  },
  {
   "cell_type": "code",
   "execution_count": 7,
   "id": "b757b165",
   "metadata": {},
   "outputs": [
    {
     "data": {
      "text/plain": [
       "[{'word': 'amygdala',\n",
       "  'meaning_eng': 'The amygdala is an almond-shaped cluster of nuclei located deep within the temporal lobe of the brain. It is involved in the processing of emotions, fear response, and memory.',\n",
       "  'meaning_native': '편도체'}]"
      ]
     },
     "execution_count": 7,
     "metadata": {},
     "output_type": "execute_result"
    }
   ],
   "source": [
    "import json\n",
    "\n",
    "crewai_response = json.loads(result)\n",
    "words = crewai_response['words']\n",
    "\n",
    "words"
   ]
  },
  {
   "cell_type": "code",
   "execution_count": 8,
   "id": "a3501123",
   "metadata": {},
   "outputs": [
    {
     "name": "stdout",
     "output_type": "stream",
     "text": [
      "3 cells appended.\n"
     ]
    },
    {
     "data": {
      "text/plain": [
       "{'spreadsheetId': '1hFNuCdmySJodQM5qsR5FJ6pkPLQc5DbXwP7h74pwTs8',\n",
       " 'tableRange': 'Behave!B4:E307',\n",
       " 'updates': {'spreadsheetId': '1hFNuCdmySJodQM5qsR5FJ6pkPLQc5DbXwP7h74pwTs8',\n",
       "  'updatedRange': 'Behave!B308:D308',\n",
       "  'updatedRows': 1,\n",
       "  'updatedColumns': 3,\n",
       "  'updatedCells': 3}}"
      ]
     },
     "execution_count": 8,
     "metadata": {},
     "output_type": "execute_result"
    }
   ],
   "source": [
    "from googlesheets_utils import GooglesheetUtils\n",
    "\n",
    "googlesheet = GooglesheetUtils(spreadsheet_id='1hFNuCdmySJodQM5qsR5FJ6pkPLQc5DbXwP7h74pwTs8')\n",
    "\n",
    "values = [[word['word'], word['meaning_eng'], word['meaning_native']] for word in words]\n",
    "googlesheet.append_data('Behave!B4', values)\n",
    "\n"
   ]
  }
 ],
 "metadata": {
  "kernelspec": {
   "display_name": "new_crewai",
   "language": "python",
   "name": "python3"
  },
  "language_info": {
   "codemirror_mode": {
    "name": "ipython",
    "version": 3
   },
   "file_extension": ".py",
   "mimetype": "text/x-python",
   "name": "python",
   "nbconvert_exporter": "python",
   "pygments_lexer": "ipython3",
   "version": "3.11.13"
  }
 },
 "nbformat": 4,
 "nbformat_minor": 5
}
